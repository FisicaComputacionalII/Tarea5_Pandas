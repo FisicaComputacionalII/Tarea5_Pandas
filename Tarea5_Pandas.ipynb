{
 "metadata": {
  "language_info": {
   "codemirror_mode": {
    "name": "ipython",
    "version": 3
   },
   "file_extension": ".py",
   "mimetype": "text/x-python",
   "name": "python",
   "nbconvert_exporter": "python",
   "pygments_lexer": "ipython3",
   "version": 3
  },
  "orig_nbformat": 2
 },
 "nbformat": 4,
 "nbformat_minor": 2,
 "cells": [
  {
   "source": [
    "# Física Computacional-I\n",
    "\n",
    "## Tarea 5, Pandas\n",
    "\n",
    "## Teoría\n",
    "\n",
    "La zona habitable es una región en la que cualquier planeta con ciertas condiciones (composición atmosférica, excentricidad, rotación, etc.) puede tener agua en estado líquido sobre su superficie. En general es un proceso complicado determinar si un planeta está en la zona habitable de una estrella, pero para este ejercicio vamos a utilizar un prosedimiento aproximado desarrollado en \\href{http://phl.upr.edu/library/notes/habitablezonesdistancehzdahabitabilitymetricforexoplanets}{http://phl.upr.edu/}.  Donde se calculan los límites interior ($r_i$) y exterior ($r_o$) de la zona de habitabilidad usando la siguientes expresiones:\n",
    "$$r_i=[r_{is}-a_i(T_{eff}-T_s)-b_i(T_{eff}-T_s)^2]\\sqrt{\\mathcal{L}}$$\n",
    "\t\n",
    "$$r_o=[r_{os}-a_o(T_{eff}-T_s)-b_o(T_{eff}-T_s)^2]\\sqrt{\\mathcal{L}}$$\n",
    "\n",
    "donde $\\mathcal{L}$ es la luminosidad estelar en unidades solares, $T_{eff}$ es la temperatura efectiva estelar en unidades K, $T_s = 5780$ K la temperatura efectiva del sol y $a_i = 2.7619e^{-5}$, $b_i = 3.8095e^{-9}$, $a_o = 1.3786e^{-4}$, ${b_o = 1.4286e^{-9}}$, $r_{is} = 0,72$ y $r_{os} = 1,77$ son parámetros de ajuste."
   ],
   "cell_type": "markdown",
   "metadata": {}
  },
  {
   "source": [
    "## Ejercicios\n",
    "\n",
    "Obtenga la base de datos de exoplanetas encontrados hasta el momento de  [exoplanets.org](http://exoplanets.org/csv-files/exoplanets.csv) y cree con este un DataFrame(DF) de Pandas. Sobre ese DF realice las siguientes tareas.\n",
    "\t\n",
    "1. Como vamos a hacer un análisis sobre zona de habitabilidad, vamos a necesitar que varios campos estén presentes. Asegúrese de que los datos del DF contengan los siguientes items (Cree un DF solo con estos): \n",
    "\n",
    "   - NAME\n",
    "   - TEFF: temperatura efectiva de la estrella.\n",
    "   - MASS: Masa del planeta.\n",
    "   - A: semieje mayor.\n",
    "   - DENSITY: densidad.\n",
    "   - R: radio del planeta.\n",
    "   - STAR: Nombre de la estrella.\n",
    "   - MSTAR: Masa de la estrella.\n",
    "   - RSTAR: Radio de la estrella.\n",
    "   - BINARY: indica si el sistema es binario o no.\n",
    "\t\t\t\t\t\t\n",
    "2. Descarte los sistemas binarios i.e. BINARY==0.\n",
    "\t\t\n",
    "3. La masa de esos planetas esta expresada en masas de jupiter, cree otra columna que se llame MASSE en unidades de masa de la tierra.\n",
    "\t\t\n",
    "4. Similarmente el radio de los planetas está expresada en términos del radio de Jupiter, cree otra columna llamada RE, con los radios expresados en radios terrestres.\n",
    "\t\t\n",
    "5. Teniendo en cuenta que la luminosidad de una estrella se puede calcular como $\\mathcal{L} = 4\\pi R^2\\sigma T^4_{eff}$, donde $R$ es el radio de la estrella $\\sigma$ la constante de Stefan-Boltzmann (Recuerde usar las unidades correctas). Cree otra columna llámela LUM y llénela con las luminosidades de las estrellas.\n",
    "\t\t\n",
    "6. Calcule los limites de la zona de habitabilidad y asigne a estos las columnas ri y ro.\n",
    "\t\t\n",
    "7. Haga un filtro que seleccione los planetas con alta probabilidad de ser rocosos, i.e. que su densidad sea del orden o mayor que $5 {\\text~g~cm^{-3}}$. Muestre los resultados en una tabla.\n",
    "\t\t\n",
    "8. Cree un filtro que seleccione los planetas dentro de la zona de habitabilidad. Muestre los resultados en una tabla.\n",
    "\t\t\n",
    "9. Para los planetas dentro de la zona de habitabilidad (solo zona de habitabilidad, no aplique otros filtros) grafique:\n",
    "\n",
    "  - La masa de las estrellas vs la distancia del planeta a su estrella (scater).\n",
    "  - Distribución orbital de los planetas (histograma).  \n",
    "  - Densidad Vs masa de las estrellas.\n",
    "  - Distancia a la estrella Vs Temperatura efectiva.\n",
    "\n",
    "  __NOTA:__ Para cada uno de los puntos anteriormente listados, cree las celdas que crea convenientes dentro de este mismo notebook.\n"
   ],
   "cell_type": "markdown",
   "metadata": {}
  },
  {
   "cell_type": "code",
   "execution_count": null,
   "metadata": {},
   "outputs": [],
   "source": []
  }
 ]
}